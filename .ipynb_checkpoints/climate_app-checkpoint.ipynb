{
 "cells": [
  {
   "cell_type": "markdown",
   "id": "0b06ae59-b2e3-40b4-9bec-f0ebb4873df5",
   "metadata": {},
   "source": [
    "### Climate App Design  "
   ]
  },
  {
   "cell_type": "code",
   "execution_count": 2,
   "id": "cc2b8377-8cae-46b2-a7b5-6b6282e7356f",
   "metadata": {},
   "outputs": [],
   "source": [
    "#pip install Flask SQLAlchemy"
   ]
  },
  {
   "cell_type": "code",
   "execution_count": 1,
   "id": "6c843d08-b0da-4b92-9656-5f94529346cc",
   "metadata": {},
   "outputs": [],
   "source": [
    "#pip install Flask SQLAlchemy\n",
    "# Step 2: Create Your Flask App\n",
    "# Create a new Python file, for example, app.py, and set up your Flask application as follows:\n",
    "\n",
    "from flask import Flask, jsonify\n",
    "#from flask_sqlalchemy import SQLAlchemy\n",
    "from sqlalchemy.ext.automap import automap_base\n",
    "from sqlalchemy.orm import sessionmaker\n",
    "import datetime"
   ]
  },
  {
   "cell_type": "code",
   "execution_count": 2,
   "id": "db182339-a7a8-4f3d-9b71-ddecfbd1c5aa",
   "metadata": {},
   "outputs": [
    {
     "ename": "NameError",
     "evalue": "name 'SQLAlchemy' is not defined",
     "output_type": "error",
     "traceback": [
      "\u001b[1;31m---------------------------------------------------------------------------\u001b[0m",
      "\u001b[1;31mNameError\u001b[0m                                 Traceback (most recent call last)",
      "Cell \u001b[1;32mIn[2], line 3\u001b[0m\n\u001b[0;32m      1\u001b[0m app \u001b[38;5;241m=\u001b[39m Flask(\u001b[38;5;18m__name__\u001b[39m)\n\u001b[0;32m      2\u001b[0m app\u001b[38;5;241m.\u001b[39mconfig[\u001b[38;5;124m'\u001b[39m\u001b[38;5;124mSQLALCHEMY_DATABASE_URI\u001b[39m\u001b[38;5;124m'\u001b[39m] \u001b[38;5;241m=\u001b[39m \u001b[38;5;124m'\u001b[39m\u001b[38;5;124msqlite:///hawaii.sqlite\u001b[39m\u001b[38;5;124m'\u001b[39m\n\u001b[1;32m----> 3\u001b[0m db \u001b[38;5;241m=\u001b[39m SQLAlchemy(app)\n\u001b[0;32m      5\u001b[0m \u001b[38;5;66;03m# Reflect the database schema\u001b[39;00m\n\u001b[0;32m      6\u001b[0m Base \u001b[38;5;241m=\u001b[39m automap_base()\n",
      "\u001b[1;31mNameError\u001b[0m: name 'SQLAlchemy' is not defined"
     ]
    }
   ],
   "source": [
    "\n",
    "\n",
    "app = Flask(__name__)\n",
    "app.config['SQLALCHEMY_DATABASE_URI'] = 'sqlite:///hawaii.sqlite'\n",
    "\n",
    "db = SQLAlchemy(app)\n",
    "\n",
    "# Reflect the database schema\n",
    "Base = automap_base()\n",
    "Base.prepare(db.engine, reflect=True)\n",
    "\n",
    "# Save references to the tables\n",
    "Measurement = Base.classes.measurement\n",
    "Station = Base.classes.station\n",
    "\n",
    "@app.route('/')\n",
    "def home():\n",
    "    return (\n",
    "        f\"Available Routes:<br/>\"\n",
    "        f\"/api/v1.0/precipitation<br/>\"\n",
    "        f\"/api/v1.0/stations<br/>\"\n",
    "        f\"/api/v1.0/tobs<br/>\"\n",
    "        f\"/api/v1.0/&lt;start&gt;<br/>\"\n",
    "        f\"/api/v1.0/&lt;start&gt;/&lt;end&gt;<br/>\"\n",
    "    )\n",
    "\n",
    "@app.route('/api/v1.0/precipitation')\n",
    "def precipitation():\n",
    "    # Query for the last 12 months of precipitation data\n",
    "    last_year = datetime.datetime.now() - datetime.timedelta(days=365)\n",
    "    results = db.session.query(Measurement.date, Measurement.prcp).filter(Measurement.date >= last_year).all()\n",
    "    \n",
    "    # Create a dictionary from the results\n",
    "    precipitation_data = {date: prcp for date, prcp in results}\n",
    "    return jsonify(precipitation_data)\n",
    "\n",
    "@app.route('/api/v1.0/stations')\n",
    "def stations():\n",
    "    # Query for all stations\n",
    "    results = db.session.query(Station.station).all()\n",
    "    stations_list = [station[0] for station in results]\n",
    "    return jsonify(stations_list)\n",
    "\n",
    "@app.route('/api/v1.0/tobs')\n",
    "def tobs():\n",
    "    # Query for the most active station's temperature observations for the last year\n",
    "    last_year = datetime.datetime.now() - datetime.timedelta(days=365)\n",
    "    results = db.session.query(Measurement.tobs).filter(Measurement.date >= last_year, Measurement.station == 'USC00519281').all()\n",
    "    temp_observations = [temp[0] for temp in results]\n",
    "    return jsonify(temp_observations)\n",
    "\n",
    "@app.route('/api/v1.0/<start>')\n",
    "def start(start):\n",
    "    # Query for min, avg, and max temperatures from the start date to the latest date\n",
    "    results = db.session.query(\n",
    "        db.func.min(Measurement.tobs),\n",
    "        db.func.avg(Measurement.tobs),\n",
    "        db.func.max(Measurement.tobs)\n",
    "    ).filter(Measurement.date >= start).all()\n",
    "    \n",
    "    temps = list(results[0])\n",
    "    return jsonify({\n",
    "        'TMIN': temps[0],\n",
    "        'TAVG': temps[1],\n",
    "        'TMAX': temps[2]\n",
    "    })\n",
    "\n",
    "@app.route('/api/v1.0/<start>/<end>')\n",
    "def start_end(start, end):\n",
    "    # Query for min, avg, and max temperatures between start and end dates\n",
    "    results = db.session.query(\n",
    "        db.func.min(Measurement.tobs),\n",
    "        db.func.avg(Measurement.tobs),\n",
    "        db.func.max(Measurement.tobs)\n",
    "    ).filter(Measurement.date >= start).filter(Measurement.date <= end).all()\n",
    "    \n",
    "    temps = list(results[0])\n",
    "    return jsonify({\n",
    "        'TMIN': temps[0],\n",
    "        'TAVG': temps[1],\n",
    "        'TMAX': temps[2]\n",
    "    })\n",
    "\n",
    "if __name__ == '__main__':\n",
    "    app.run(debug=True)\n",
    "# Step 3: Run Your Flask App\n",
    "# To run your application, execute the following command in your terminal:\n",
    "\n",
    "# python app.py"
   ]
  },
  {
   "cell_type": "code",
   "execution_count": null,
   "id": "75341ccf-4f28-4f45-868a-01240175788e",
   "metadata": {},
   "outputs": [],
   "source": []
  }
 ],
 "metadata": {
  "kernelspec": {
   "display_name": "Python 3 (ipykernel)",
   "language": "python",
   "name": "python3"
  },
  "language_info": {
   "codemirror_mode": {
    "name": "ipython",
    "version": 3
   },
   "file_extension": ".py",
   "mimetype": "text/x-python",
   "name": "python",
   "nbconvert_exporter": "python",
   "pygments_lexer": "ipython3",
   "version": "3.12.4"
  }
 },
 "nbformat": 4,
 "nbformat_minor": 5
}
